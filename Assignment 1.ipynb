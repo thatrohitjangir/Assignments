{
 "cells": [
  {
   "cell_type": "markdown",
   "id": "a056ad7f",
   "metadata": {},
   "source": [
    "# answer 1"
   ]
  },
  {
   "cell_type": "markdown",
   "id": "aa85c4fb",
   "metadata": {},
   "source": [
    "values: 'hello', -87.8, 6\n",
    "expressions: 'hello', -87.8, 6, *, -, /, +"
   ]
  },
  {
   "cell_type": "markdown",
   "id": "59acbca8",
   "metadata": {},
   "source": [
    "# answer 2"
   ]
  },
  {
   "cell_type": "markdown",
   "id": "b0724bb8",
   "metadata": {},
   "source": [
    "string is a data type and a collection of characters, while a variable is data storage. a variable can store any value of any data type (including string)."
   ]
  },
  {
   "cell_type": "markdown",
   "id": "495c2c68",
   "metadata": {},
   "source": [
    "# answer 3"
   ]
  },
  {
   "cell_type": "markdown",
   "id": "d38d7bef",
   "metadata": {},
   "source": [
    "int: it denotes that the data is an integer value.\n",
    "float: it denotes that the data which contains decimal.\n",
    "string: it is collection of characters, these characters may be numbers, alphabets or any other special characters (including space)."
   ]
  },
  {
   "cell_type": "markdown",
   "id": "ac636d05",
   "metadata": {},
   "source": [
    "# answer 4"
   ]
  },
  {
   "cell_type": "markdown",
   "id": "71a0ef9b",
   "metadata": {},
   "source": [
    "an expression is a combination of values, variables and operators (but not all necessarily at same time).\n",
    "expressions evaluate, basically."
   ]
  },
  {
   "cell_type": "markdown",
   "id": "2b572f63",
   "metadata": {},
   "source": [
    "# answer 5"
   ]
  },
  {
   "cell_type": "markdown",
   "id": "31f9e147",
   "metadata": {},
   "source": [
    "expression evaluates (like a mathematical operation for example) and statement executes (like a print statement)."
   ]
  },
  {
   "cell_type": "markdown",
   "id": "0aa15f5c",
   "metadata": {},
   "source": [
    "# answer 6"
   ]
  },
  {
   "cell_type": "code",
   "execution_count": 15,
   "id": "4445e411",
   "metadata": {},
   "outputs": [
    {
     "data": {
      "text/plain": [
       "23"
      ]
     },
     "execution_count": 15,
     "metadata": {},
     "output_type": "execute_result"
    }
   ],
   "source": [
    "bacon=22\n",
    "bacon+1"
   ]
  },
  {
   "cell_type": "markdown",
   "id": "ddd17926",
   "metadata": {},
   "source": [
    "bacon will be equal to 22, because the operation is not done on bacon. bacon is only used in calculation."
   ]
  },
  {
   "cell_type": "markdown",
   "id": "3970f8fe",
   "metadata": {},
   "source": [
    "# answer 7"
   ]
  },
  {
   "cell_type": "markdown",
   "id": "10f15e65",
   "metadata": {},
   "source": [
    "the output of both the operations will be same, first operation is kind of append operation while the second one is a mathematical operation."
   ]
  },
  {
   "cell_type": "code",
   "execution_count": 14,
   "id": "b24f5273",
   "metadata": {},
   "outputs": [
    {
     "data": {
      "text/plain": [
       "'spamspamspam'"
      ]
     },
     "execution_count": 14,
     "metadata": {},
     "output_type": "execute_result"
    }
   ],
   "source": [
    "'spam'+'spamspam'"
   ]
  },
  {
   "cell_type": "code",
   "execution_count": 13,
   "id": "2acdaa6c",
   "metadata": {},
   "outputs": [
    {
     "data": {
      "text/plain": [
       "'spamspamspam'"
      ]
     },
     "execution_count": 13,
     "metadata": {},
     "output_type": "execute_result"
    }
   ],
   "source": [
    "'spam'*3"
   ]
  },
  {
   "cell_type": "markdown",
   "id": "5eb27c52",
   "metadata": {},
   "source": [
    "# answer 8"
   ]
  },
  {
   "cell_type": "markdown",
   "id": "d7f82a80",
   "metadata": {},
   "source": [
    "whenever an integer is written in python, it is readed as a mathematical entity (how come 1 store value 2) and not as an variable name while the word eggs can be used to store a value as it is neither a mathematical entity nor a reserved keyeword in python.\n",
    "one may differ that this doesn't hold in case of dictionary data type but in that case it is not variable, it is a key."
   ]
  },
  {
   "cell_type": "markdown",
   "id": "8bf07acd",
   "metadata": {},
   "source": [
    "# answer 9"
   ]
  },
  {
   "cell_type": "markdown",
   "id": "17753bd5",
   "metadata": {},
   "source": [
    "int() is used for integer,\n",
    "float() is used for floating-point,\n",
    "str() is used for string"
   ]
  },
  {
   "cell_type": "markdown",
   "id": "144a4f53",
   "metadata": {},
   "source": [
    "# answer 10"
   ]
  },
  {
   "cell_type": "code",
   "execution_count": 1,
   "id": "999b06da",
   "metadata": {},
   "outputs": [
    {
     "ename": "TypeError",
     "evalue": "can only concatenate str (not \"int\") to str",
     "output_type": "error",
     "traceback": [
      "\u001b[1;31m---------------------------------------------------------------------------\u001b[0m",
      "\u001b[1;31mTypeError\u001b[0m                                 Traceback (most recent call last)",
      "\u001b[1;32m~\\AppData\\Local\\Temp/ipykernel_16888/2878724274.py\u001b[0m in \u001b[0;36m<module>\u001b[1;34m\u001b[0m\n\u001b[1;32m----> 1\u001b[1;33m \u001b[1;34m'i have eaten'\u001b[0m\u001b[1;33m+\u001b[0m\u001b[1;36m99\u001b[0m\u001b[1;33m+\u001b[0m\u001b[1;34m'burritos'\u001b[0m\u001b[1;33m\u001b[0m\u001b[1;33m\u001b[0m\u001b[0m\n\u001b[0m",
      "\u001b[1;31mTypeError\u001b[0m: can only concatenate str (not \"int\") to str"
     ]
    }
   ],
   "source": [
    "'i have eaten'+99+'burritos'"
   ]
  },
  {
   "cell_type": "markdown",
   "id": "e763b846",
   "metadata": {},
   "source": [
    "we can see that in above tab 99 has got int as its data type\n",
    "while the operation we are trying to do is applicable to strings.\n",
    "this can be solved by the replacing 99 with '99' or str(99)."
   ]
  },
  {
   "cell_type": "code",
   "execution_count": 7,
   "id": "688c35a4",
   "metadata": {},
   "outputs": [
    {
     "data": {
      "text/plain": [
       "'i have eaten 99 burritos'"
      ]
     },
     "execution_count": 7,
     "metadata": {},
     "output_type": "execute_result"
    }
   ],
   "source": [
    "'i have eaten'+' 99 '+'burritos'"
   ]
  }
 ],
 "metadata": {
  "kernelspec": {
   "display_name": "Python 3 (ipykernel)",
   "language": "python",
   "name": "python3"
  },
  "language_info": {
   "codemirror_mode": {
    "name": "ipython",
    "version": 3
   },
   "file_extension": ".py",
   "mimetype": "text/x-python",
   "name": "python",
   "nbconvert_exporter": "python",
   "pygments_lexer": "ipython3",
   "version": "3.9.7"
  }
 },
 "nbformat": 4,
 "nbformat_minor": 5
}
