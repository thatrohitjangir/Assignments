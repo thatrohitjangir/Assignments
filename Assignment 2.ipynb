{
 "cells": [
  {
   "cell_type": "markdown",
   "id": "0b50bca9",
   "metadata": {},
   "source": [
    "# answer 1"
   ]
  },
  {
   "cell_type": "markdown",
   "id": "fcc9ca31",
   "metadata": {},
   "source": [
    "the two values of boolean data type are 0 and 1.\n",
    "'True' corresponds to 1, 'False' corresponds to 0."
   ]
  },
  {
   "cell_type": "code",
   "execution_count": null,
   "id": "a3a2d15a",
   "metadata": {},
   "outputs": [],
   "source": [
    "a=True\n",
    "b=False"
   ]
  },
  {
   "cell_type": "code",
   "execution_count": 4,
   "id": "d3bb46c5",
   "metadata": {},
   "outputs": [
    {
     "data": {
      "text/plain": [
       "bool"
      ]
     },
     "execution_count": 4,
     "metadata": {},
     "output_type": "execute_result"
    }
   ],
   "source": [
    "type(a)"
   ]
  },
  {
   "cell_type": "code",
   "execution_count": 5,
   "id": "c4046d85",
   "metadata": {},
   "outputs": [
    {
     "data": {
      "text/plain": [
       "bool"
      ]
     },
     "execution_count": 5,
     "metadata": {},
     "output_type": "execute_result"
    }
   ],
   "source": [
    "type(b)"
   ]
  },
  {
   "cell_type": "code",
   "execution_count": 6,
   "id": "e1366c58",
   "metadata": {},
   "outputs": [
    {
     "data": {
      "text/plain": [
       "1"
      ]
     },
     "execution_count": 6,
     "metadata": {},
     "output_type": "execute_result"
    }
   ],
   "source": [
    "int(a)"
   ]
  },
  {
   "cell_type": "code",
   "execution_count": 7,
   "id": "d3b39458",
   "metadata": {},
   "outputs": [
    {
     "data": {
      "text/plain": [
       "0"
      ]
     },
     "execution_count": 7,
     "metadata": {},
     "output_type": "execute_result"
    }
   ],
   "source": [
    "int(b)"
   ]
  },
  {
   "cell_type": "markdown",
   "id": "d21ccac1",
   "metadata": {},
   "source": [
    "# answer 2"
   ]
  },
  {
   "cell_type": "markdown",
   "id": "84e7c9b6",
   "metadata": {},
   "source": [
    "three boolean operators are and, or, not."
   ]
  },
  {
   "cell_type": "markdown",
   "id": "22e22835",
   "metadata": {},
   "source": [
    "# answer 3"
   ]
  },
  {
   "cell_type": "code",
   "execution_count": 24,
   "id": "c38115ab",
   "metadata": {},
   "outputs": [
    {
     "name": "stdout",
     "output_type": "stream",
     "text": [
      "     INPUTS    | OUTPUT\n",
      "------------------------\n",
      "True  |  True  |  True\n",
      "True  |  False |  False\n",
      "False |  True  |  False\n",
      "False |  False |  False\n"
     ]
    }
   ],
   "source": [
    "# FOR AND OPERATOR\n",
    "t=True\n",
    "f=False\n",
    "print('     INPUTS    | OUTPUT\\n------------------------')\n",
    "print(t,' | ', t,' | ',t and t)\n",
    "print(t,' | ', f,'| ',t and f)\n",
    "print(f,'| ', t,' | ',f and t)\n",
    "print(f,'| ', f,'| ',f and f)"
   ]
  },
  {
   "cell_type": "code",
   "execution_count": 25,
   "id": "c0472d7d",
   "metadata": {},
   "outputs": [
    {
     "name": "stdout",
     "output_type": "stream",
     "text": [
      "     INPUTS    | OUTPUT\n",
      "------------------------\n",
      "True  |  True  |  True\n",
      "True  |  False |  True\n",
      "False |  True  |  True\n",
      "False |  False |  False\n"
     ]
    }
   ],
   "source": [
    "# FOR OR OPERATOR\n",
    "print('     INPUTS    | OUTPUT\\n------------------------')\n",
    "print(t,' | ', t,' | ',t or t)\n",
    "print(t,' | ', f,'| ',t or f)\n",
    "print(f,'| ', t,' | ',f or t)\n",
    "print(f,'| ', f,'| ',f or f)"
   ]
  },
  {
   "cell_type": "code",
   "execution_count": 34,
   "id": "e3ac39ef",
   "metadata": {},
   "outputs": [
    {
     "name": "stdout",
     "output_type": "stream",
     "text": [
      " INPUTS|OUTPUT\n",
      "--------------\n",
      "True   |   False\n",
      "False  |   True\n"
     ]
    }
   ],
   "source": [
    "# FOR NOT OPERATOR\n",
    "print(' INPUTS|OUTPUT\\n--------------')\n",
    "print(t,'  |  ',not t)\n",
    "print(f,' |  ',not f)"
   ]
  },
  {
   "cell_type": "markdown",
   "id": "87784dc8",
   "metadata": {},
   "source": [
    "# answer 4"
   ]
  },
  {
   "cell_type": "code",
   "execution_count": 38,
   "id": "51c42b5f",
   "metadata": {},
   "outputs": [
    {
     "data": {
      "text/plain": [
       "False"
      ]
     },
     "execution_count": 38,
     "metadata": {},
     "output_type": "execute_result"
    }
   ],
   "source": [
    "(5>4)and(3==5)"
   ]
  },
  {
   "cell_type": "code",
   "execution_count": 39,
   "id": "7bf4125c",
   "metadata": {},
   "outputs": [
    {
     "data": {
      "text/plain": [
       "False"
      ]
     },
     "execution_count": 39,
     "metadata": {},
     "output_type": "execute_result"
    }
   ],
   "source": [
    "not(5>4)"
   ]
  },
  {
   "cell_type": "code",
   "execution_count": 40,
   "id": "5b662036",
   "metadata": {},
   "outputs": [
    {
     "data": {
      "text/plain": [
       "True"
      ]
     },
     "execution_count": 40,
     "metadata": {},
     "output_type": "execute_result"
    }
   ],
   "source": [
    "(5>4)or(3==5)"
   ]
  },
  {
   "cell_type": "code",
   "execution_count": 41,
   "id": "8c6d4f8c",
   "metadata": {},
   "outputs": [
    {
     "data": {
      "text/plain": [
       "False"
      ]
     },
     "execution_count": 41,
     "metadata": {},
     "output_type": "execute_result"
    }
   ],
   "source": [
    "not((5>4)or(3==5))"
   ]
  },
  {
   "cell_type": "code",
   "execution_count": 42,
   "id": "065a435f",
   "metadata": {},
   "outputs": [
    {
     "data": {
      "text/plain": [
       "False"
      ]
     },
     "execution_count": 42,
     "metadata": {},
     "output_type": "execute_result"
    }
   ],
   "source": [
    "(True and True)and(True==False)"
   ]
  },
  {
   "cell_type": "code",
   "execution_count": 43,
   "id": "5ff27b32",
   "metadata": {},
   "outputs": [
    {
     "data": {
      "text/plain": [
       "True"
      ]
     },
     "execution_count": 43,
     "metadata": {},
     "output_type": "execute_result"
    }
   ],
   "source": [
    "(not False)or(not True)"
   ]
  },
  {
   "cell_type": "markdown",
   "id": "e0d87968",
   "metadata": {},
   "source": [
    "# answer 5"
   ]
  },
  {
   "cell_type": "code",
   "execution_count": 46,
   "id": "0625c327",
   "metadata": {},
   "outputs": [
    {
     "data": {
      "text/plain": [
       "True"
      ]
     },
     "execution_count": 46,
     "metadata": {},
     "output_type": "execute_result"
    }
   ],
   "source": [
    "# equal to\n",
    "5 == 5"
   ]
  },
  {
   "cell_type": "code",
   "execution_count": 47,
   "id": "378666af",
   "metadata": {},
   "outputs": [
    {
     "data": {
      "text/plain": [
       "True"
      ]
     },
     "execution_count": 47,
     "metadata": {},
     "output_type": "execute_result"
    }
   ],
   "source": [
    "# not equal to\n",
    "4 != 5"
   ]
  },
  {
   "cell_type": "code",
   "execution_count": 51,
   "id": "3d64794a",
   "metadata": {},
   "outputs": [
    {
     "data": {
      "text/plain": [
       "False"
      ]
     },
     "execution_count": 51,
     "metadata": {},
     "output_type": "execute_result"
    }
   ],
   "source": [
    "# greater than\n",
    "3 > 3"
   ]
  },
  {
   "cell_type": "code",
   "execution_count": 52,
   "id": "7bf6f0b3",
   "metadata": {},
   "outputs": [
    {
     "data": {
      "text/plain": [
       "True"
      ]
     },
     "execution_count": 52,
     "metadata": {},
     "output_type": "execute_result"
    }
   ],
   "source": [
    "# greater than or equal to\n",
    "3 >= 3"
   ]
  },
  {
   "cell_type": "code",
   "execution_count": 55,
   "id": "a36e09cf",
   "metadata": {},
   "outputs": [
    {
     "data": {
      "text/plain": [
       "True"
      ]
     },
     "execution_count": 55,
     "metadata": {},
     "output_type": "execute_result"
    }
   ],
   "source": [
    "# less than\n",
    "8 < 9"
   ]
  },
  {
   "cell_type": "code",
   "execution_count": 54,
   "id": "2b18b01e",
   "metadata": {},
   "outputs": [
    {
     "data": {
      "text/plain": [
       "False"
      ]
     },
     "execution_count": 54,
     "metadata": {},
     "output_type": "execute_result"
    }
   ],
   "source": [
    "# less than or equal to\n",
    "6 <= 5"
   ]
  },
  {
   "cell_type": "markdown",
   "id": "90e89eeb",
   "metadata": {},
   "source": [
    "# answer 6"
   ]
  },
  {
   "cell_type": "markdown",
   "id": "61c95c34",
   "metadata": {},
   "source": [
    "when an assignment of a data is done then only one '=' symbol is used, while in case of equal to operator two '=' are used."
   ]
  },
  {
   "cell_type": "code",
   "execution_count": 44,
   "id": "bfe579dd",
   "metadata": {},
   "outputs": [],
   "source": [
    "# assigning values to variables\n",
    "a=10\n",
    "b=11"
   ]
  },
  {
   "cell_type": "code",
   "execution_count": 45,
   "id": "ac7aba7d",
   "metadata": {},
   "outputs": [
    {
     "data": {
      "text/plain": [
       "False"
      ]
     },
     "execution_count": 45,
     "metadata": {},
     "output_type": "execute_result"
    }
   ],
   "source": [
    "# equal to, comparison operator\n",
    "a==b"
   ]
  },
  {
   "cell_type": "markdown",
   "id": "c8553753",
   "metadata": {},
   "source": [
    "# answer 7"
   ]
  },
  {
   "cell_type": "code",
   "execution_count": 60,
   "id": "f6e5b39f",
   "metadata": {},
   "outputs": [
    {
     "name": "stdout",
     "output_type": "stream",
     "text": [
      "ham\n",
      "spam\n",
      "spam\n"
     ]
    }
   ],
   "source": [
    "spam=0\n",
    "\n",
    "# block 1\n",
    "if spam==10:\n",
    "    print('eggs')\n",
    "\n",
    "# block 2\n",
    "if spam>5:\n",
    "    print('bacon')\n",
    "else:\n",
    "    print('ham')\n",
    "\n",
    "# block 3\n",
    "print('spam')\n",
    "print('spam')"
   ]
  },
  {
   "cell_type": "markdown",
   "id": "a10413c4",
   "metadata": {},
   "source": [
    "# answer 8"
   ]
  },
  {
   "cell_type": "code",
   "execution_count": 61,
   "id": "c886183d",
   "metadata": {},
   "outputs": [
    {
     "name": "stdout",
     "output_type": "stream",
     "text": [
      "2\n",
      "Howdy\n"
     ]
    }
   ],
   "source": [
    "spam=int(input())\n",
    "if spam==1:\n",
    "    print('Hello')\n",
    "elif spam==2:\n",
    "    print('Howdy')\n",
    "else:\n",
    "    print('Greetings!')"
   ]
  },
  {
   "cell_type": "markdown",
   "id": "d8201260",
   "metadata": {},
   "source": [
    "# answer 9"
   ]
  },
  {
   "cell_type": "code",
   "execution_count": null,
   "id": "d0eafe36",
   "metadata": {},
   "outputs": [],
   "source": [
    "Ctrl + C"
   ]
  },
  {
   "cell_type": "markdown",
   "id": "43922b90",
   "metadata": {},
   "source": [
    "# answer 10"
   ]
  },
  {
   "cell_type": "markdown",
   "id": "ebea9132",
   "metadata": {},
   "source": [
    "the break statement breaks the entire loop or exits a loop, and continue helps skip code below it while continuing to run the loop for rest of the iterations."
   ]
  },
  {
   "cell_type": "markdown",
   "id": "3b878990",
   "metadata": {},
   "source": [
    "# answer 11"
   ]
  },
  {
   "cell_type": "code",
   "execution_count": 82,
   "id": "c07c94c6",
   "metadata": {},
   "outputs": [
    {
     "name": "stdout",
     "output_type": "stream",
     "text": [
      "0\n",
      "1\n",
      "2\n",
      "3\n",
      "4\n",
      "5\n",
      "6\n",
      "7\n",
      "8\n",
      "9\n"
     ]
    }
   ],
   "source": [
    "for i in range(10):\n",
    "    print(i)"
   ]
  },
  {
   "cell_type": "code",
   "execution_count": 84,
   "id": "e6955a78",
   "metadata": {},
   "outputs": [
    {
     "name": "stdout",
     "output_type": "stream",
     "text": [
      "0\n",
      "1\n",
      "2\n",
      "3\n",
      "4\n",
      "5\n",
      "6\n",
      "7\n",
      "8\n",
      "9\n"
     ]
    }
   ],
   "source": [
    "for i in range(0,10):\n",
    "    print(i)"
   ]
  },
  {
   "cell_type": "code",
   "execution_count": 85,
   "id": "30095c6d",
   "metadata": {},
   "outputs": [
    {
     "name": "stdout",
     "output_type": "stream",
     "text": [
      "0\n",
      "1\n",
      "2\n",
      "3\n",
      "4\n",
      "5\n",
      "6\n",
      "7\n",
      "8\n",
      "9\n"
     ]
    }
   ],
   "source": [
    "for i in range(0,10,1):\n",
    "    print(i)"
   ]
  },
  {
   "cell_type": "markdown",
   "id": "b233d2c7",
   "metadata": {},
   "source": [
    "the output is same in all the cases.\n",
    "in case of range(10) the output will be values starting from 0 to 10 excluding '10' and default step size '+1'. in case of range(0,10) the starting value of output is specified at '0' which is also default. in case of range(0,10,1) the  length of the increment step is defined as '1' which is default value also."
   ]
  },
  {
   "cell_type": "markdown",
   "id": "d25ab715",
   "metadata": {},
   "source": [
    "# answer 12"
   ]
  },
  {
   "cell_type": "code",
   "execution_count": 86,
   "id": "7ec7b5f1",
   "metadata": {},
   "outputs": [
    {
     "name": "stdout",
     "output_type": "stream",
     "text": [
      "1\n",
      "2\n",
      "3\n",
      "4\n",
      "5\n",
      "6\n",
      "7\n",
      "8\n",
      "9\n",
      "10\n"
     ]
    }
   ],
   "source": [
    "for i in range(0,10):\n",
    "    print(i+1)"
   ]
  },
  {
   "cell_type": "code",
   "execution_count": 89,
   "id": "e7b49dbe",
   "metadata": {},
   "outputs": [
    {
     "name": "stdout",
     "output_type": "stream",
     "text": [
      "1\n",
      "2\n",
      "3\n",
      "4\n",
      "5\n",
      "6\n",
      "7\n",
      "8\n",
      "9\n",
      "10\n"
     ]
    }
   ],
   "source": [
    "i=0\n",
    "while i<10:\n",
    "    i+=1\n",
    "    print(i)"
   ]
  },
  {
   "cell_type": "markdown",
   "id": "0f5556b6",
   "metadata": {},
   "source": [
    "# answer 13"
   ]
  },
  {
   "cell_type": "markdown",
   "id": "1c7ef925",
   "metadata": {},
   "source": [
    "spam.bacon()"
   ]
  }
 ],
 "metadata": {
  "kernelspec": {
   "display_name": "Python 3 (ipykernel)",
   "language": "python",
   "name": "python3"
  },
  "language_info": {
   "codemirror_mode": {
    "name": "ipython",
    "version": 3
   },
   "file_extension": ".py",
   "mimetype": "text/x-python",
   "name": "python",
   "nbconvert_exporter": "python",
   "pygments_lexer": "ipython3",
   "version": "3.9.7"
  }
 },
 "nbformat": 4,
 "nbformat_minor": 5
}
